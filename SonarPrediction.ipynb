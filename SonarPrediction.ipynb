{
  "nbformat": 4,
  "nbformat_minor": 0,
  "metadata": {
    "colab": {
      "provenance": [],
      "authorship_tag": "ABX9TyNuPa3lmznEVJV6sUSq57KX",
      "include_colab_link": true
    },
    "kernelspec": {
      "name": "python3",
      "display_name": "Python 3"
    },
    "language_info": {
      "name": "python"
    }
  },
  "cells": [
    {
      "cell_type": "markdown",
      "metadata": {
        "id": "view-in-github",
        "colab_type": "text"
      },
      "source": [
        "<a href=\"https://colab.research.google.com/github/solaiV003/Chess-Board/blob/main/SonarPrediction.ipynb\" target=\"_parent\"><img src=\"https://colab.research.google.com/assets/colab-badge.svg\" alt=\"Open In Colab\"/></a>"
      ]
    },
    {
      "cell_type": "markdown",
      "source": [
        "**sonar rock vs mine prediction**"
      ],
      "metadata": {
        "id": "nmXLYrpKOBiS"
      }
    },
    {
      "cell_type": "code",
      "source": [],
      "metadata": {
        "id": "0zBTdGCgOYOv"
      },
      "execution_count": null,
      "outputs": []
    }
  ]
}